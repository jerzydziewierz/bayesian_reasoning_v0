{
 "cells": [
  {
   "cell_type": "code",
   "execution_count": null,
   "metadata": {},
   "outputs": [
    {
     "name": "stdout",
     "output_type": "stream",
     "text": [
      "The autoreload extension is already loaded. To reload it, use:\n",
      "  %reload_ext autoreload\n"
     ]
    }
   ],
   "source": [
    "#hide\n",
    "%load_ext autoreload\n",
    "%autoreload 2\n",
    "#hide\n",
    "from nbdev.showdoc import *"
   ]
  },
  {
   "cell_type": "markdown",
   "metadata": {},
   "source": [
    "> After reading this, you will be able to use Bayesian reasoning for your project."
   ]
  },
  {
   "cell_type": "markdown",
   "metadata": {},
   "source": [
    "# What happened.\n",
    "\n",
    "I do not normally write blog posts.\n",
    "\n",
    "Today is not a normal day tough. \n",
    "\n",
    "I believe that I have found a missing link in my understanding of bayesian modelling theory.\n",
    "\n",
    "This is not so much about the bayes belief update equation. It's good. The problem is that the notation is confusing, making it difficult to distinguish and source(compute, obtain) the various terms in the equation, in connection to the real-world phenomena. And then, when solving a real world problem, this is not even where you put most of the time-effort in. \n",
    "\n",
    "You might think that bayes update rule:\n",
    "\n",
    "$$p( A | B) = \\frac{p(B|A)p(A)}{p(B)}$$\n",
    "\n",
    ">  https://en.wikipedia.org/wiki/Bayes%27_theorem\n",
    "\n",
    "is all that it takes.\n",
    "\n",
    "This form is nice for proving that the bayes' theorem is correct. \n",
    "\n",
    "However, what do these terms mean? How does one apply this? \n",
    "\n",
    "It turns out that even professional data scientists (that I met) have a problem in applying this simple equation in practice.\n",
    "\n",
    "In this write-up, I will explain why, what to do about it, and give a fairly universal code-demo that can be adapted and extended for your problem. \n"
   ]
  },
  {
   "cell_type": "markdown",
   "metadata": {},
   "source": [
    "## Install"
   ]
  },
  {
   "cell_type": "markdown",
   "metadata": {},
   "source": [
    "`pip install git+https://github.com/jerzydziewierz/bayesian_reasoning_v0.git`"
   ]
  },
  {
   "cell_type": "markdown",
   "metadata": {},
   "source": [
    "## How to use"
   ]
  },
  {
   "cell_type": "markdown",
   "metadata": {},
   "source": [
    "Read the [chapter 1](https://jerzydziewierz.github.io/bayesian_reasoning_v0/10-gr-bayesian-modeling-missing-link.html).  (link here when I figure out how to add it)\n",
    "\n",
    "Then use the the example provided to express your problem as a belief update problem. Profit!"
   ]
  },
  {
   "cell_type": "code",
   "execution_count": null,
   "metadata": {},
   "outputs": [
    {
     "data": {
      "text/plain": [
       "'`10-gr-bayesian-modeling-missing-link.ipynb`'"
      ]
     },
     "execution_count": null,
     "metadata": {},
     "output_type": "execute_result"
    }
   ],
   "source": [
    "#hide\n",
    "doc_link('10-gr-bayesian-modeling-missing-link.ipynb')"
   ]
  },
  {
   "cell_type": "markdown",
   "metadata": {},
   "source": [
    "# I want a quicker way.\n",
    "\n",
    "Here you go:"
   ]
  },
  {
   "cell_type": "code",
   "execution_count": null,
   "metadata": {},
   "outputs": [],
   "source": [
    "from bayesian_reasoning_v0.core import *\n",
    "from lib.lib_nicefloat import *\n",
    "import numpy\n",
    "\n",
    "ja=lambda x: jax.numpy.array(x)"
   ]
  },
  {
   "cell_type": "markdown",
   "metadata": {},
   "source": [
    "Assume that our plant is a classic coin. \n",
    "\n",
    "Assume that we can model it with a hidden parameter $\\phi$"
   ]
  },
  {
   "cell_type": "code",
   "execution_count": null,
   "metadata": {},
   "outputs": [
    {
     "data": {
      "text/plain": [
       "[[D=  1  ],\n",
       " [D=  1  ],\n",
       " [D=  1  ]]"
      ]
     },
     "execution_count": null,
     "metadata": {},
     "output_type": "execute_result"
    }
   ],
   "source": [
    "def coin_model(real_hidden_phi=0.5 ,observation_count=10):\n",
    "    \"\"\"\n",
    "    a model of a coin: simulates coin tosses.\n",
    "    \n",
    "    \"\"\"\n",
    "    observations = jax.numpy.array(numpy.random.random(observation_count)<real_hidden_phi,dtype=jax.numpy.int32).reshape(observation_count,1)\n",
    "    return observations\n",
    "\n",
    "pd(coin_model(observation_count = 3))"
   ]
  },
  {
   "cell_type": "markdown",
   "metadata": {},
   "source": [
    "In this example, we will consider 3 possible values for $\\phi$ : $\\{\\phi\\} = [0.2, 0.5, 0.8] $"
   ]
  },
  {
   "cell_type": "code",
   "execution_count": null,
   "metadata": {},
   "outputs": [
    {
     "data": {
      "text/plain": [
       "[φ=0.200  , φ=0.500  , φ=0.800  ]"
      ]
     },
     "execution_count": null,
     "metadata": {},
     "output_type": "execute_result"
    }
   ],
   "source": [
    "# # # Hidden parameter - suspected values to evaluate\n",
    "# note that the convention is to put phis in column headers column headers\n",
    "phi_set = ja([0.2,0.5,0.8])\n",
    "pf(phi_set)"
   ]
  },
  {
   "cell_type": "markdown",
   "metadata": {},
   "source": [
    "Here are possible prior beliefs to try:"
   ]
  },
  {
   "cell_type": "code",
   "execution_count": null,
   "metadata": {},
   "outputs": [],
   "source": [
    "# like with phi, we put prior and posterior beliefs in column headers (columns, or 1D-only arrays)\n",
    "\n",
    "# no bias belief: we think that the coin is not biased.\n",
    "prior_belief_set_fair = ja([0.1,0.8,0.1])\n",
    "\n",
    "# high bias belief: we think that the coin is biased.\n",
    "prior_belief_set_bias_0 = ja([0.8,0.1,0.1])\n",
    "\n",
    "# high bias belief: we think that the coin is biased towards ones.\n",
    "prior_belief_set_bias_1 = jax.numpy.array([0.1,0.1,0.8])\n",
    "\n",
    "# uninformative: We know that we don't know. \n",
    "prior_belief_set_uninformative = jax.numpy.array([0.3333,0.3333,0.3333])"
   ]
  },
  {
   "cell_type": "code",
   "execution_count": null,
   "metadata": {},
   "outputs": [
    {
     "data": {
      "text/plain": [
       "[    333mR,     333mR,     333mR]"
      ]
     },
     "execution_count": null,
     "metadata": {},
     "output_type": "execute_result"
    }
   ],
   "source": [
    "pb(prior_belief_set_uninformative)"
   ]
  },
  {
   "cell_type": "markdown",
   "metadata": {},
   "source": [
    "For repeatability, here are example observation sets to try:"
   ]
  },
  {
   "cell_type": "code",
   "execution_count": null,
   "metadata": {},
   "outputs": [],
   "source": [
    "# # # Observations  -- constants or generate using coin_model\n",
    "# note that the convention is to put observations in rows of the table.\n",
    "observation_single_1 = ja([[1]]) # note: need a categorical variable here - and only \"1\" or \"0\"\n",
    "observation_single_0 = ja([[0]]) # note: need a categorical variable here - and only \"1\" or \"0\"\n",
    "observation_small_set_0 = ja([[0],[0]])\n",
    "observation_small_set_balanced = ja([[0],[1]])\n",
    "observation_small_set_1 = ja([[1],[1]])\n",
    "observation_large_set_neutral = ja([[1],[1],[1],[1],[0],[0],[0],[0]])\n",
    "observation_large_set_biased = ja([[1],[1],[1],[1],[0],[0]])"
   ]
  },
  {
   "cell_type": "code",
   "execution_count": null,
   "metadata": {},
   "outputs": [
    {
     "data": {
      "text/plain": [
       "[[D=  0  ],\n",
       " [D=  1  ]]"
      ]
     },
     "execution_count": null,
     "metadata": {},
     "output_type": "execute_result"
    }
   ],
   "source": [
    "pd(observation_small_set_balanced)"
   ]
  },
  {
   "cell_type": "code",
   "execution_count": null,
   "metadata": {},
   "outputs": [
    {
     "name": "stdout",
     "output_type": "stream",
     "text": [
      "for observations {D}: \n",
      "[[D=  0  ],\n",
      " [D=  0  ]]\n",
      "\n",
      "for parameter set      {φ}  = [φ=0.200  , φ=0.500  , φ=0.800  ]\n",
      "and prior belief set b({φ}) = [    333mR,     333mR,     333mR]\n",
      "\n",
      "for model parameter φ=0.200   with PriorBelief =     333mR, UpdatedBelief =     688mR, change of  +355mR \n",
      "for model parameter φ=0.500   with PriorBelief =     333mR, UpdatedBelief =     269mR, change of   -64mR \n",
      "for model parameter φ=0.800   with PriorBelief =     333mR, UpdatedBelief =      43mR, change of  -290mR \n",
      "\n",
      "\n",
      "                       {φ}  = [φ=0.200  , φ=0.500  , φ=0.800  ]\n",
      "posterior belief set b({φ}) = [    688mR,     269mR,      43mR]\n"
     ]
    }
   ],
   "source": [
    "# now, place the observations and prior beliefs here, and enjoy the results.\n",
    "\n",
    "this_observation_set = observation_small_set_0\n",
    "this_phi_prior_belief_set = prior_belief_set_uninformative\n",
    "\n",
    "posterior_belief_set=BayesianBeliefUpdate(\n",
    "                        phi_set = phi_set,\n",
    "                        phi_prior_belief_set=this_phi_prior_belief_set,\n",
    "                        observations=this_observation_set,\n",
    "                        likelihood_fn=likelihood_observation_set_fn,\n",
    "                        marginal_probability_fn = marginal_fn)\n",
    "\n",
    "BayesianBeliefUpdateReport(\n",
    "                        phi_set = phi_set,\n",
    "                        phi_prior_belief_set=this_phi_prior_belief_set,\n",
    "                        observations=this_observation_set,\n",
    "                        posterior_belief_set=posterior_belief_set)\n"
   ]
  },
  {
   "cell_type": "markdown",
   "metadata": {},
   "source": [
    "# I am not convinced\n",
    "\n",
    "Contact me on LinkedIn and tell me why I am wrong.\n",
    "\n",
    "https://www.linkedin.com/in/dr-george-rey-dziewierz/\n"
   ]
  },
  {
   "cell_type": "code",
   "execution_count": null,
   "metadata": {},
   "outputs": [],
   "source": []
  },
  {
   "cell_type": "code",
   "execution_count": null,
   "metadata": {},
   "outputs": [],
   "source": []
  }
 ],
 "metadata": {
  "kernelspec": {
   "display_name": "Python 3",
   "language": "python",
   "name": "python3"
  }
 },
 "nbformat": 4,
 "nbformat_minor": 2
}
