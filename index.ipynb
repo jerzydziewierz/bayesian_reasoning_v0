{
 "cells": [
  {
   "cell_type": "code",
   "execution_count": null,
   "metadata": {},
   "outputs": [],
   "source": [
    "%load_ext autoreload\n",
    "%autoreload 2"
   ]
  },
  {
   "cell_type": "code",
   "execution_count": null,
   "metadata": {},
   "outputs": [],
   "source": [
    "#hide\n",
    "from bayesian_reasoning_v0.core import *"
   ]
  },
  {
   "cell_type": "markdown",
   "metadata": {},
   "source": [
    "# Intro to Bayesian reasoning\n",
    "\n",
    "> After reading this, you will be able to use Bayesian reasoning for your project."
   ]
  },
  {
   "cell_type": "markdown",
   "metadata": {},
   "source": [
    "This file will become your README and also the index of your documentation."
   ]
  },
  {
   "cell_type": "markdown",
   "metadata": {},
   "source": [
    "## Install"
   ]
  },
  {
   "cell_type": "markdown",
   "metadata": {},
   "source": [
    "`pip install git+https://github.com/jerzydziewierz/bayesian_reasoning_v0.git`"
   ]
  },
  {
   "cell_type": "markdown",
   "metadata": {},
   "source": [
    "## How to use"
   ]
  },
  {
   "cell_type": "code",
   "execution_count": null,
   "metadata": {},
   "outputs": [],
   "source": [
    "import bayesian_reasoning_v0\n",
    "dir(bayesian_reasoning_v0)"
   ]
  },
  {
   "cell_type": "code",
   "execution_count": null,
   "metadata": {},
   "outputs": [],
   "source": [
    "this_observation_set = observation_small_set_0\n",
    "this_phi_prior_belief_set = prior_belief_set_uninformative\n",
    "\n",
    "posterior_belief_set=BayesianBeliefUpdate(\n",
    "                        phi_set = phi_set,\n",
    "                        phi_prior_belief_set=this_phi_prior_belief_set,\n",
    "                        observations=this_observation_set,\n",
    "                        likelihood_fn=likelihood_observation_set_fn,\n",
    "                        marginal_probability_fn = marginal_fn)\n",
    "\n",
    "BayesianBeliefUpdateReport(\n",
    "                        phi_set = phi_set,\n",
    "                        phi_prior_belief_set=this_phi_prior_belief_set,\n",
    "                        observations=this_observation_set,\n",
    "                        posterior_belief_set=posterior_belief_set)\n"
   ]
  },
  {
   "cell_type": "code",
   "execution_count": null,
   "metadata": {},
   "outputs": [],
   "source": []
  }
 ],
 "metadata": {
  "kernelspec": {
   "display_name": "Python 3",
   "language": "python",
   "name": "python3"
  }
 },
 "nbformat": 4,
 "nbformat_minor": 2
}
