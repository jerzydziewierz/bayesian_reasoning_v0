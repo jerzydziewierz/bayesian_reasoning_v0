{
 "cells": [
  {
   "cell_type": "code",
   "execution_count": null,
   "id": "4ff78fee",
   "metadata": {},
   "outputs": [
    {
     "name": "stdout",
     "output_type": "stream",
     "text": [
      "The autoreload extension is already loaded. To reload it, use:\n",
      "  %reload_ext autoreload\n"
     ]
    }
   ],
   "source": [
    "#hide\n",
    "from bayesian_reasoning_v0.core import *\n",
    "from lib.lib_nicefloat import *\n",
    "%load_ext autoreload\n",
    "%autoreload 2"
   ]
  },
  {
   "cell_type": "code",
   "execution_count": null,
   "id": "d48fcbfc",
   "metadata": {},
   "outputs": [
    {
     "data": {
      "text/plain": [
       "[[D=  0  , \b\b],\n",
       " [D=  0  , \b\b]]"
      ]
     },
     "execution_count": null,
     "metadata": {},
     "output_type": "execute_result"
    }
   ],
   "source": [
    "pd(observation_small_set_0)"
   ]
  },
  {
   "cell_type": "code",
   "execution_count": null,
   "id": "71382ecd",
   "metadata": {},
   "outputs": [
    {
     "data": {
      "text/plain": [
       "[    333mR,     333mR,     333mR, \b\b]"
      ]
     },
     "execution_count": null,
     "metadata": {},
     "output_type": "execute_result"
    }
   ],
   "source": [
    "pb(prior_belief_set_uninformative)"
   ]
  },
  {
   "cell_type": "code",
   "execution_count": null,
   "id": "25ef3baf",
   "metadata": {},
   "outputs": [
    {
     "name": "stdout",
     "output_type": "stream",
     "text": [
      "for observations {D}: \n",
      "[[D=  0  , \b\b],\n",
      " [D=  0  , \b\b]]\n",
      "\n",
      "for parameter set      {φ}  = [φ=0.200  , φ=0.500  , φ=0.800  , \b\b]\n",
      "and prior belief set b({φ}) = [    333mR,     333mR,     333mR, \b\b]\n",
      "\n",
      "for model parameter φ=0.200  , \b\b with PriorBelief =     333mR, \b\b, UpdatedBelief =     688mR, \b\b, change of  +355mR \n",
      "for model parameter φ=0.500  , \b\b with PriorBelief =     333mR, \b\b, UpdatedBelief =     269mR, \b\b, change of   -64mR \n",
      "for model parameter φ=0.800  , \b\b with PriorBelief =     333mR, \b\b, UpdatedBelief =      43mR, \b\b, change of  -290mR \n",
      "\n",
      "\n",
      "                       {φ}  = [φ=0.200  , φ=0.500  , φ=0.800  , \b\b]\n",
      "posterior belief set b({φ}) = [    688mR,     269mR,      43mR, \b\b]\n"
     ]
    }
   ],
   "source": [
    "this_observation_set = observation_small_set_0\n",
    "this_phi_prior_belief_set = prior_belief_set_uninformative\n",
    "\n",
    "posterior_belief_set=BayesianBeliefUpdate(\n",
    "                        phi_set = phi_set,\n",
    "                        phi_prior_belief_set=this_phi_prior_belief_set,\n",
    "                        observations=this_observation_set,\n",
    "                        likelihood_fn=likelihood_observation_set_fn,\n",
    "                        marginal_probability_fn = marginal_fn)\n",
    "\n",
    "BayesianBeliefUpdateReport(\n",
    "                        phi_set = phi_set,\n",
    "                        phi_prior_belief_set=this_phi_prior_belief_set,\n",
    "                        observations=this_observation_set,\n",
    "                        posterior_belief_set=posterior_belief_set)\n"
   ]
  }
 ],
 "metadata": {
  "kernelspec": {
   "display_name": "Python 3",
   "language": "python",
   "name": "python3"
  }
 },
 "nbformat": 4,
 "nbformat_minor": 5
}
