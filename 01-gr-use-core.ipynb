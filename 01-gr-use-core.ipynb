{
 "cells": [
  {
   "cell_type": "code",
   "execution_count": null,
   "id": "edc3ef1a",
   "metadata": {},
   "outputs": [],
   "source": [
    "#hide\n",
    "from bayesian_reasoning_v0.core import *\n",
    "%load_ext autoreload\n",
    "%autoreload 2"
   ]
  },
  {
   "cell_type": "code",
   "execution_count": null,
   "id": "f2402c83",
   "metadata": {},
   "outputs": [],
   "source": [
    "import bayesian_reasoning_v0.core\n",
    "dir(bayesian_reasoning_v0.core)"
   ]
  },
  {
   "cell_type": "code",
   "execution_count": null,
   "id": "335d7054",
   "metadata": {},
   "outputs": [],
   "source": [
    "this_observation_set = observation_small_set_0\n",
    "this_phi_prior_belief_set = prior_belief_set_uninformative\n",
    "\n",
    "posterior_belief_set=BayesianBeliefUpdate(\n",
    "                        phi_set = phi_set,\n",
    "                        phi_prior_belief_set=this_phi_prior_belief_set,\n",
    "                        observations=this_observation_set,\n",
    "                        likelihood_fn=likelihood_observation_set_fn,\n",
    "                        marginal_probability_fn = marginal_fn)\n",
    "\n",
    "BayesianBeliefUpdateReport(\n",
    "                        phi_set = phi_set,\n",
    "                        phi_prior_belief_set=this_phi_prior_belief_set,\n",
    "                        observations=this_observation_set,\n",
    "                        posterior_belief_set=posterior_belief_set)\n"
   ]
  },
  {
   "cell_type": "code",
   "execution_count": null,
   "id": "3b9573b1",
   "metadata": {},
   "outputs": [],
   "source": [
    "\n",
    "print(result)\n",
    "q=result.find(f'\\b')\n"
   ]
  },
  {
   "cell_type": "code",
   "execution_count": null,
   "id": "1844dd41",
   "metadata": {},
   "outputs": [
    {
     "data": {
      "text/plain": [
       "'1234567\\x08\\x088a\\x08\\x089\\x08'"
      ]
     },
     "execution_count": null,
     "metadata": {},
     "output_type": "execute_result"
    }
   ],
   "source": [
    "\n",
    "result"
   ]
  },
  {
   "cell_type": "code",
   "execution_count": null,
   "id": "c150d60b",
   "metadata": {},
   "outputs": [
    {
     "name": "stdout",
     "output_type": "stream",
     "text": [
      "pre='1234567\\x08\\x088a\\x08\\x089\\x08', pos=7, post='123456\\x088a\\x08\\x089\\x08'\n",
      "pre='123456\\x088a\\x08\\x089\\x08', pos=6, post='123458a\\x08\\x089\\x08'\n",
      "pre='123458a\\x08\\x089\\x08', pos=7, post='123458\\x089\\x08'\n",
      "pre='123458\\x089\\x08', pos=6, post='123459\\x08'\n",
      "pre='123459\\x08', pos=6, post='12345'\n"
     ]
    }
   ],
   "source": [
    "result=f'1234567\\b\\b8a\\b\\b9\\b'\n",
    "pre = result\n",
    "for cnt in range(10):\n",
    "    pos = pre.find(f'\\b')\n",
    "    if pos==-1:\n",
    "        break\n",
    "    post = pre[0:pos-1]+pre[pos+1:]\n",
    "    print(f'{pre=}, {pos=}, {post=}')\n",
    "    pre=post"
   ]
  },
  {
   "cell_type": "code",
   "execution_count": null,
   "id": "c583aa14",
   "metadata": {},
   "outputs": [],
   "source": [
    "def trim_backspaces(txt):\n",
    "    pre = txt\n",
    "    for cnt in range(999):\n",
    "        pos = pre.find(f'\\b')\n",
    "        if pos==-1:\n",
    "            break\n",
    "        post = pre[0:pos-1]+pre[pos+1:]\n",
    "        # print(f'{pre=}, {pos=}, {post=}')\n",
    "        pre=post\n",
    "    result = post\n",
    "    return result\n",
    "    "
   ]
  },
  {
   "cell_type": "code",
   "execution_count": null,
   "id": "87845fbf",
   "metadata": {},
   "outputs": [
    {
     "data": {
      "text/plain": [
       "'12345'"
      ]
     },
     "execution_count": null,
     "metadata": {},
     "output_type": "execute_result"
    }
   ],
   "source": [
    "trim_backspaces(f'1234567\\b\\b8a\\b\\b9\\b')"
   ]
  },
  {
   "cell_type": "code",
   "execution_count": null,
   "id": "87c5ce7a",
   "metadata": {},
   "outputs": [],
   "source": [
    "result.find?"
   ]
  },
  {
   "cell_type": "code",
   "execution_count": null,
   "id": "dc89a88a",
   "metadata": {},
   "outputs": [],
   "source": [
    "''.join([v[0:-1] for v in result.split(f'\\b')])"
   ]
  },
  {
   "cell_type": "code",
   "execution_count": null,
   "id": "59ee723e",
   "metadata": {},
   "outputs": [],
   "source": [
    "result.split(f'\\b')"
   ]
  },
  {
   "cell_type": "code",
   "execution_count": null,
   "id": "bf4c7b7a",
   "metadata": {},
   "outputs": [],
   "source": [
    "print(txt)"
   ]
  },
  {
   "cell_type": "code",
   "execution_count": null,
   "id": "def9c077",
   "metadata": {},
   "outputs": [],
   "source": [
    "result.split?"
   ]
  },
  {
   "cell_type": "code",
   "execution_count": null,
   "id": "dada0080",
   "metadata": {},
   "outputs": [],
   "source": []
  }
 ],
 "metadata": {
  "kernelspec": {
   "display_name": "Python 3",
   "language": "python",
   "name": "python3"
  }
 },
 "nbformat": 4,
 "nbformat_minor": 5
}
