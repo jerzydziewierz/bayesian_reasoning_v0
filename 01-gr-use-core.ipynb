{
 "cells": [
  {
   "cell_type": "code",
   "execution_count": null,
   "id": "36a6e221",
   "metadata": {},
   "outputs": [
    {
     "name": "stderr",
     "output_type": "stream",
     "text": [
      "WARNING:absl:No GPU/TPU found, falling back to CPU. (Set TF_CPP_MIN_LOG_LEVEL=0 and rerun for more info.)\n"
     ]
    },
    {
     "name": "stdout",
     "output_type": "stream",
     "text": [
      "The autoreload extension is already loaded. To reload it, use:\n",
      "  %reload_ext autoreload\n"
     ]
    }
   ],
   "source": [
    "#hide\n",
    "from bayesian_reasoning_v0.core import *\n",
    "%load_ext autoreload\n",
    "%autoreload 2"
   ]
  },
  {
   "cell_type": "code",
   "execution_count": null,
   "id": "129939fd",
   "metadata": {},
   "outputs": [
    {
     "data": {
      "text/plain": [
       "['BayesianBeliefUpdate',\n",
       " 'BayesianBeliefUpdateReport',\n",
       " 'BayesianBeliefUpdate_singlePhi',\n",
       " '__all__',\n",
       " '__builtins__',\n",
       " '__cached__',\n",
       " '__doc__',\n",
       " '__file__',\n",
       " '__loader__',\n",
       " '__name__',\n",
       " '__package__',\n",
       " '__spec__',\n",
       " 'coin_model',\n",
       " 'functools',\n",
       " 'ja',\n",
       " 'jax',\n",
       " 'lib_nicefloat',\n",
       " 'likelihood_observation_set_fn',\n",
       " 'likelihood_vector_fn',\n",
       " 'marginal_fn',\n",
       " 'nicefloat',\n",
       " 'numpy',\n",
       " 'observation_large_set_biased',\n",
       " 'observation_large_set_neutral',\n",
       " 'observation_single_0',\n",
       " 'observation_single_1',\n",
       " 'observation_small_set_0',\n",
       " 'observation_small_set_1',\n",
       " 'observation_small_set_balanced',\n",
       " 'pb',\n",
       " 'pd',\n",
       " 'pe',\n",
       " 'pf',\n",
       " 'phi_set',\n",
       " 'pl',\n",
       " 'prior_belief_set_bias_0',\n",
       " 'prior_belief_set_bias_1',\n",
       " 'prior_belief_set_fair',\n",
       " 'prior_belief_set_uninformative']"
      ]
     },
     "execution_count": null,
     "metadata": {},
     "output_type": "execute_result"
    }
   ],
   "source": [
    "import bayesian_reasoning_v0.core\n",
    "dir(bayesian_reasoning_v0.core)"
   ]
  },
  {
   "cell_type": "code",
   "execution_count": null,
   "id": "5de360fa",
   "metadata": {},
   "outputs": [
    {
     "name": "stdout",
     "output_type": "stream",
     "text": [
      "for observations {D}: \n",
      "[[D=  0  , \b\b],\n",
      " [D=  0  , \b\b]]\n",
      "\n",
      "for parameter set      {ϕ}  = [ϕ=0.200  , ϕ=0.500  , ϕ=0.800  , \b\b]\n",
      "and prior belief set b({ϕ}) = [    333mR,     333mR,     333mR, \b\b]\n",
      "\n",
      "for model parameter ϕ=0.200  , \b\b with PriorBelief =     333mR, \b\b, UpdatedBelief =     688mR, \b\b, change of  +355mR \n",
      "for model parameter ϕ=0.500  , \b\b with PriorBelief =     333mR, \b\b, UpdatedBelief =     269mR, \b\b, change of   -64mR \n",
      "for model parameter ϕ=0.800  , \b\b with PriorBelief =     333mR, \b\b, UpdatedBelief =      43mR, \b\b, change of  -290mR \n",
      "\n",
      "\n",
      "                       {ϕ}  = [ϕ=0.200  , ϕ=0.500  , ϕ=0.800  , \b\b]\n",
      "posterior belief set b({ϕ}) = [    688mR,     269mR,      43mR, \b\b]\n"
     ]
    }
   ],
   "source": [
    "this_observation_set = observation_small_set_0\n",
    "this_phi_prior_belief_set = prior_belief_set_uninformative\n",
    "\n",
    "posterior_belief_set=BayesianBeliefUpdate(\n",
    "                        phi_set = phi_set,\n",
    "                        phi_prior_belief_set=this_phi_prior_belief_set,\n",
    "                        observations=this_observation_set,\n",
    "                        likelihood_fn=likelihood_observation_set_fn,\n",
    "                        marginal_probability_fn = marginal_fn)\n",
    "\n",
    "BayesianBeliefUpdateReport(\n",
    "                        phi_set = phi_set,\n",
    "                        phi_prior_belief_set=this_phi_prior_belief_set,\n",
    "                        observations=this_observation_set,\n",
    "                        posterior_belief_set=posterior_belief_set)\n"
   ]
  },
  {
   "cell_type": "code",
   "execution_count": null,
   "id": "c6802e4d",
   "metadata": {},
   "outputs": [],
   "source": []
  }
 ],
 "metadata": {
  "kernelspec": {
   "display_name": "Python 3",
   "language": "python",
   "name": "python3"
  }
 },
 "nbformat": 4,
 "nbformat_minor": 5
}
