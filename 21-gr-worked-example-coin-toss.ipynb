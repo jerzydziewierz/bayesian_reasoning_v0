{
 "cells": [
  {
   "cell_type": "markdown",
   "id": "5a3b972b",
   "metadata": {},
   "source": [
    "# Worked example - coin toss - is the coin fair?\n",
    "\n",
    "> Or rather >>what should I believe about bias of the coin?<<"
   ]
  },
  {
   "cell_type": "code",
   "execution_count": null,
   "id": "637ac168",
   "metadata": {},
   "outputs": [],
   "source": []
  },
  {
   "cell_type": "code",
   "execution_count": null,
   "id": "a809960d",
   "metadata": {},
   "outputs": [],
   "source": [
    "#hide\n",
    "from bayesian_reasoning_v0.core import *\n",
    "from lib.lib_nicefloat import *\n",
    "%load_ext autoreload\n",
    "%autoreload 2"
   ]
  },
  {
   "cell_type": "code",
   "execution_count": null,
   "id": "8360366b",
   "metadata": {},
   "outputs": [],
   "source": []
  },
  {
   "cell_type": "code",
   "execution_count": null,
   "id": "0b61ac7a",
   "metadata": {},
   "outputs": [
    {
     "data": {
      "text/plain": [
       "[[D=  0  ],\n",
       " [D=  0  ]]"
      ]
     },
     "execution_count": null,
     "metadata": {},
     "output_type": "execute_result"
    }
   ],
   "source": [
    "pd(observation_small_set_0)"
   ]
  },
  {
   "cell_type": "code",
   "execution_count": null,
   "id": "0e021a1c",
   "metadata": {},
   "outputs": [
    {
     "name": "stdout",
     "output_type": "stream",
     "text": [
      "for observations {D}: \n",
      "[[D=  0  ],\n",
      " [D=  0  ]]\n",
      "\n",
      "for parameter set      {φ}  = [φ=0.200  , φ=0.500  , φ=0.800  ]\n",
      "and prior belief set b({φ}) = [    333mR,     333mR,     333mR]\n",
      "\n",
      "for model parameter φ=0.200   with PriorBelief =     333mR, UpdatedBelief =     688mR, change of  +355mR \n",
      "for model parameter φ=0.500   with PriorBelief =     333mR, UpdatedBelief =     269mR, change of   -64mR \n",
      "for model parameter φ=0.800   with PriorBelief =     333mR, UpdatedBelief =      43mR, change of  -290mR \n",
      "\n",
      "\n",
      "                       {φ}  = [φ=0.200  , φ=0.500  , φ=0.800  ]\n",
      "posterior belief set b({φ}) = [    688mR,     269mR,      43mR]\n"
     ]
    }
   ],
   "source": [
    "this_observation_set = observation_small_set_0\n",
    "this_phi_prior_belief_set = prior_belief_set_uninformative\n",
    "\n",
    "posterior_belief_set=BayesianBeliefUpdate(\n",
    "                        phi_set = phi_set,\n",
    "                        phi_prior_belief_set=this_phi_prior_belief_set,\n",
    "                        observations=this_observation_set,\n",
    "                        likelihood_fn=likelihood_observation_set_fn,\n",
    "                        marginal_probability_fn = marginal_fn)\n",
    "\n",
    "BayesianBeliefUpdateReport(\n",
    "                        phi_set = phi_set,\n",
    "                        phi_prior_belief_set=this_phi_prior_belief_set,\n",
    "                        observations=this_observation_set,\n",
    "                        posterior_belief_set=posterior_belief_set)\n"
   ]
  }
 ],
 "metadata": {
  "kernelspec": {
   "display_name": "Python 3",
   "language": "python",
   "name": "python3"
  }
 },
 "nbformat": 4,
 "nbformat_minor": 5
}
