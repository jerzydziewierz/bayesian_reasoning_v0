{
 "cells": [
  {
   "cell_type": "code",
   "execution_count": null,
   "metadata": {},
   "outputs": [],
   "source": [
    "# default_exp core"
   ]
  },
  {
   "cell_type": "markdown",
   "metadata": {},
   "source": [
    "# Core module\n",
    "\n",
    "> Implementation of bayesian reasoning on a coin-flip like scenario with finite list $\\{p\\}$ of possible latent parameter $p$"
   ]
  },
  {
   "cell_type": "code",
   "execution_count": null,
   "metadata": {},
   "outputs": [],
   "source": [
    "#hide\n",
    "from nbdev.showdoc import *"
   ]
  },
  {
   "cell_type": "code",
   "execution_count": null,
   "metadata": {},
   "outputs": [],
   "source": [
    "#export\n",
    "from lib.lib_nicefloat import *\n",
    "from std_init import *\n",
    "jax.config.update('jax_platform_name', 'cpu')\n",
    "\n",
    "ja=lambda x: jax.numpy.array(x)\n",
    "\n",
    "def coin_model(real_hidden_phi=0.5 ,observation_count=10):\n",
    "    \"\"\"\n",
    "    a model of a coin: simulates coin tosses.\n",
    "    \n",
    "    \"\"\"\n",
    "    observations = jax.numpy.array(numpy.random.random(observation_count)<real_hidden_phi,dtype=jax.numpy.int32).reshape(observation_count,1)\n",
    "    return observations\n",
    "\n",
    "\n",
    "# note that the convention is to put phis in column headers column headers\n",
    "phi_set = ja([0.2,0.5,0.8])\n",
    "observation_single_1 = ja([[1]]) # note: need a categorical variable here - and only \"1\" or \"0\"\n",
    "observation_single_0 = ja([[0]]) # note: need a categorical variable here - and only \"1\" or \"0\"\n",
    "observation_small_set_0 = ja([[0],[0]])\n",
    "observation_small_set_balanced = ja([[0],[1]])\n",
    "observation_small_set_1 = ja([[1],[1]])\n",
    "\n",
    "# note that the convention is to put observations in rows of the table.\n",
    "observation_large_set_neutral = ja([[1],[1],[1],[1],[0],[0],[0],[0]])\n",
    "observation_large_set_biased = ja([[1],[1],[1],[1],[0],[0]])"
   ]
  },
  {
   "cell_type": "code",
   "execution_count": null,
   "metadata": {},
   "outputs": [
    {
     "data": {
      "text/plain": [
       "[    333mR,     333mR,     333mR]"
      ]
     },
     "execution_count": null,
     "metadata": {},
     "output_type": "execute_result"
    }
   ],
   "source": [
    "#export\n",
    "\n",
    "# like with phi, we put prior and posterior beliefs in column headers (columns, or 1D-only arrays)\n",
    "\n",
    "# no bias belief: we think that the coin is not biased.\n",
    "prior_belief_set_fair = ja([0.1,0.8,0.1])\n",
    "pb(prior_belief_set_fair)\n",
    "\n",
    "\n",
    "\n",
    "# high bias belief: we think that the coin is biased.\n",
    "prior_belief_set_bias_0 = ja([0.8,0.1,0.1])\n",
    "pb(prior_belief_set_bias_0)\n",
    "\n",
    "\n",
    "\n",
    "# high bias belief: we think that the coin is biased towards ones.\n",
    "prior_belief_set_bias_1 = jax.numpy.array([0.1,0.1,0.8])\n",
    "pb(prior_belief_set_bias_1)\n",
    "\n",
    "prior_belief_set_uninformative = jax.numpy.array([0.3333,0.3333,0.3333])\n",
    "pb(prior_belief_set_uninformative)"
   ]
  },
  {
   "cell_type": "code",
   "execution_count": null,
   "metadata": {},
   "outputs": [],
   "source": [
    "#export\n",
    "\n",
    "def likelihood_vector_fn(observations,phis):\n",
    "    assert observations.shape[1]==1, f\"only 1 feature per observation supported. Supplied {observations.shape[1]=}\"\n",
    "    assert len(phis.shape)==1, f\"set of phi must be in a 1D vector. Supplied {phis.shape=}, expected phis.shape=(n,)\"\n",
    "    result = jax.numpy.einsum('ox,p->op',(observations==1),phis) + jax.numpy.einsum('ox,p->op',(observations==0),(1-phis))\n",
    "    return result\n",
    "\n",
    "def likelihood_observation_set_fn(observations,phi):\n",
    "    result = jax.numpy.prod(likelihood_vector_fn(observations,phi),axis=0)\n",
    "    return result\n",
    "\n",
    "def marginal_fn(observations, likelihood_function, phi_set, prior_belief_set):\n",
    "    # note that the likehood_function must be the observation_set likehood function (one that computes likehood of all observations simultanousely)\n",
    "    result = jax.numpy.sum(prior_belief_set*likelihood_function(observations=observations,phi=phi_set),axis=0)\n",
    "    return result\n",
    "\n",
    "# scalar version -- simple.\n",
    "def BayesianBeliefUpdate_singlePhi(\n",
    "        this_phi, this_phi_prior_belief,\n",
    "        phi_set, phi_prior_belief_set,\n",
    "        observations,\n",
    "        likelihood_fn,\n",
    "        marginal_probability_fn\n",
    "        ):\n",
    "    result = this_phi_prior_belief * ( likelihood_fn(observations,this_phi) / marginal_probability_fn(observations, likelihood_fn, phi_set, phi_prior_belief_set) )\n",
    "    return result\n",
    "\n",
    "def BayesianBeliefUpdate(\n",
    "    phi_set, phi_prior_belief_set, observations,\n",
    "    likelihood_fn, marginal_probability_fn,\n",
    "    ):\n",
    "    posterior_belief_set = []\n",
    "    # I choose to do the iteration here, because it is still confusing to write an update function for each phi taking all phis . . .\n",
    "    # still, it's probably possible to refactor the marginal_probability_fn to not compute it multiple times -- at the cost of making it more convoluted to implement.\n",
    "    for phi_index in range(len(phi_set)):\n",
    "        UpdatedBelief = BayesianBeliefUpdate_singlePhi(\n",
    "            this_phi=ja(phi_set[phi_index]).reshape(-1,),                # for this phi,\n",
    "            this_phi_prior_belief=phi_prior_belief_set[phi_index],       # with such prior belief\n",
    "            phi_set=phi_set, phi_prior_belief_set=phi_prior_belief_set,  # out of this phi set\n",
    "            observations=observations,                                   # taking in these new observations\n",
    "            likelihood_fn=likelihood_observation_set_fn,                 #the likehood function for the model\n",
    "            marginal_probability_fn=marginal_probability_fn)             #the marginal probability function to call\n",
    "        posterior_belief_set.append(UpdatedBelief[0])\n",
    "    posterior_belief_set = ja(posterior_belief_set).T\n",
    "\n",
    "    return posterior_belief_set\n",
    "\n",
    "\n",
    "def BayesianBeliefUpdateReport(\n",
    "                        phi_set = phi_set,\n",
    "                        phi_prior_belief_set=prior_belief_set_uninformative,\n",
    "                        observations=observation_small_set_balanced,\n",
    "                        posterior_belief_set=prior_belief_set_uninformative):\n",
    "    if len(observations)<5:\n",
    "        print('for observations {D}: \\n'f'{pd(observations)}')\n",
    "    else:\n",
    "        observation_count = len(observations)\n",
    "        print(f'for {len(observations)} observations, ')\n",
    "        print(f'{jax.numpy.sum(observations==0)/observation_count*100:0.1f}% of observations are D==0')\n",
    "        print(f'{jax.numpy.sum(observations==1)/observation_count*100:0.1f}% of observations are D==1')\n",
    "        print(f'')\n",
    "    print('for parameter set      {φ}  = 'f'{pf(phi_set)}')\n",
    "    print('and prior belief set b({φ}) = 'f'{pb(phi_prior_belief_set)}\\n')\n",
    "    for phi_index in range(len(phi_set)):\n",
    "        belief_change = posterior_belief_set[phi_index]-phi_prior_belief_set[phi_index]\n",
    "        print(f'for model parameter {pf(phi_set[phi_index])} with PriorBelief = {pb(phi_prior_belief_set[phi_index])}, UpdatedBelief = {pb(posterior_belief_set[phi_index])}, change of {float(belief_change*1e3):+5.0f}mR ')\n",
    "    print(f'\\n')\n",
    "    print('                       {φ}  = 'f'{pf(phi_set)}')\n",
    "    print('posterior belief set b({φ}) = 'f'{pb(posterior_belief_set)}')"
   ]
  },
  {
   "cell_type": "code",
   "execution_count": null,
   "metadata": {},
   "outputs": [
    {
     "name": "stdout",
     "output_type": "stream",
     "text": [
      "for observations {D}: \n",
      "[[D=  0  ],\n",
      " [D=  0  ]]\n",
      "\n",
      "for parameter set      {φ}  = [φ=0.200  , φ=0.500  , φ=0.800  ]\n",
      "and prior belief set b({φ}) = [    333mR,     333mR,     333mR]\n",
      "\n",
      "for model parameter φ=0.200   with PriorBelief =     333mR, UpdatedBelief =     688mR, change of  +355mR \n",
      "for model parameter φ=0.500   with PriorBelief =     333mR, UpdatedBelief =     269mR, change of   -64mR \n",
      "for model parameter φ=0.800   with PriorBelief =     333mR, UpdatedBelief =      43mR, change of  -290mR \n",
      "\n",
      "\n",
      "                       {φ}  = [φ=0.200  , φ=0.500  , φ=0.800  ]\n",
      "posterior belief set b({φ}) = [    688mR,     269mR,      43mR]\n"
     ]
    }
   ],
   "source": [
    "\n",
    "this_observation_set = observation_small_set_0\n",
    "this_phi_prior_belief_set = prior_belief_set_uninformative\n",
    "\n",
    "posterior_belief_set=BayesianBeliefUpdate(\n",
    "                        phi_set = phi_set,\n",
    "                        phi_prior_belief_set=this_phi_prior_belief_set,\n",
    "                        observations=this_observation_set,\n",
    "                        likelihood_fn=likelihood_observation_set_fn,\n",
    "                        marginal_probability_fn = marginal_fn)\n",
    "\n",
    "BayesianBeliefUpdateReport(\n",
    "                        phi_set = phi_set,\n",
    "                        phi_prior_belief_set=this_phi_prior_belief_set,\n",
    "                        observations=this_observation_set,\n",
    "                        posterior_belief_set=posterior_belief_set)"
   ]
  },
  {
   "cell_type": "code",
   "execution_count": null,
   "metadata": {},
   "outputs": [
    {
     "data": {
      "text/plain": [
       "[[D=  1  ],\n",
       " [D=  1  ],\n",
       " [D=  1  ],\n",
       " [D=  1  ],\n",
       " [D=  0  ],\n",
       " [D=  0  ]]"
      ]
     },
     "execution_count": null,
     "metadata": {},
     "output_type": "execute_result"
    }
   ],
   "source": [
    "pd(observation_large_set_biased)"
   ]
  },
  {
   "cell_type": "code",
   "execution_count": null,
   "metadata": {},
   "outputs": [
    {
     "data": {
      "text/plain": [
       "[[D=  1  ],\n",
       " [D=  0  ],\n",
       " [D=  1  ],\n",
       " [D=  1  ],\n",
       " [D=  0  ]]"
      ]
     },
     "execution_count": null,
     "metadata": {},
     "output_type": "execute_result"
    }
   ],
   "source": [
    "pd(coin_model(real_hidden_phi=0.5, observation_count =5))"
   ]
  },
  {
   "cell_type": "code",
   "execution_count": null,
   "metadata": {},
   "outputs": [
    {
     "data": {
      "text/plain": [
       "[φ=0.200  , φ=0.500  , φ=0.800  ]"
      ]
     },
     "execution_count": null,
     "metadata": {},
     "output_type": "execute_result"
    }
   ],
   "source": [
    "# we will put the phi under consideration in columns of the table\n",
    "\n",
    "pf(phi_set)"
   ]
  },
  {
   "cell_type": "code",
   "execution_count": null,
   "metadata": {},
   "outputs": [],
   "source": []
  },
  {
   "cell_type": "code",
   "execution_count": null,
   "metadata": {},
   "outputs": [
    {
     "data": {
      "text/plain": [
       "    500mΩ"
      ]
     },
     "execution_count": null,
     "metadata": {},
     "output_type": "execute_result"
    }
   ],
   "source": [
    "# when the coin is fair, the chance of getting (1) is 1/2\n",
    "pl(likelihood_observation_set_fn(observations=observation_single_1,phi=ja([0.5])))\n"
   ]
  },
  {
   "cell_type": "code",
   "execution_count": null,
   "metadata": {},
   "outputs": [],
   "source": [
    "assert likelihood_observation_set_fn(observations=observation_single_1,phi=ja([0.5]))==0.5"
   ]
  },
  {
   "cell_type": "code",
   "execution_count": null,
   "metadata": {},
   "outputs": [
    {
     "data": {
      "text/plain": [
       "[[    200mΩ,     500mΩ,     800mΩ],\n",
       " [    200mΩ,     500mΩ,     800mΩ],\n",
       " [    200mΩ,     500mΩ,     800mΩ],\n",
       " [    200mΩ,     500mΩ,     800mΩ],\n",
       " [    800mΩ,     500mΩ,     200mΩ],\n",
       " [    800mΩ,     500mΩ,     200mΩ],\n",
       " [    800mΩ,     500mΩ,     200mΩ],\n",
       " [    800mΩ,     500mΩ,     200mΩ]]"
      ]
     },
     "execution_count": null,
     "metadata": {},
     "output_type": "execute_result"
    }
   ],
   "source": [
    "pl(likelihood_vector_fn(observation_large_set_neutral,phi_set))"
   ]
  },
  {
   "cell_type": "code",
   "execution_count": null,
   "metadata": {},
   "outputs": [],
   "source": [
    "#export\n",
    "\n",
    "assert jax.numpy.allclose(\n",
    "    a= likelihood_observation_set_fn(observation_large_set_neutral,phi_set),\n",
    "    b = jax.numpy.array([0.00065536, 0.00390625, 0.00065536], dtype=jax.numpy.float32)\n",
    ")==True"
   ]
  },
  {
   "cell_type": "code",
   "execution_count": null,
   "metadata": {},
   "outputs": [],
   "source": [
    "# hide\n",
    "# from nbdev.export import notebook2script; notebook2script()"
   ]
  },
  {
   "cell_type": "code",
   "execution_count": null,
   "metadata": {},
   "outputs": [],
   "source": []
  }
 ],
 "metadata": {
  "kernelspec": {
   "display_name": "Python 3",
   "language": "python",
   "name": "python3"
  }
 },
 "nbformat": 4,
 "nbformat_minor": 2
}
